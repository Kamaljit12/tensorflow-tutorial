{
 "cells": [
  {
   "cell_type": "code",
   "execution_count": 31,
   "metadata": {},
   "outputs": [],
   "source": [
    "import tensorflow as tf"
   ]
  },
  {
   "cell_type": "code",
   "execution_count": 32,
   "metadata": {},
   "outputs": [
    {
     "name": "stdout",
     "output_type": "stream",
     "text": [
      "Tensorflow version 2.18.0\n"
     ]
    }
   ],
   "source": [
    "## tensorflow version\n",
    "print(\"Tensorflow version\",tf.__version__)"
   ]
  },
  {
   "cell_type": "code",
   "execution_count": 33,
   "metadata": {},
   "outputs": [],
   "source": [
    "## load datasets\n",
    "mnist = tf.keras.datasets.mnist"
   ]
  },
  {
   "cell_type": "code",
   "execution_count": 34,
   "metadata": {},
   "outputs": [],
   "source": [
    "(X_train, y_train), (X_test, y_test) = mnist.load_data()"
   ]
  },
  {
   "cell_type": "code",
   "execution_count": 35,
   "metadata": {},
   "outputs": [
    {
     "name": "stderr",
     "output_type": "stream",
     "text": [
      "/usr/local/python/3.12.1/lib/python3.12/site-packages/keras/src/layers/reshaping/flatten.py:37: UserWarning: Do not pass an `input_shape`/`input_dim` argument to a layer. When using Sequential models, prefer using an `Input(shape)` object as the first layer in the model instead.\n",
      "  super().__init__(**kwargs)\n"
     ]
    }
   ],
   "source": [
    "## building a machine learning model\n",
    "input_shape = X_train[0].shape\n",
    "model = tf.keras.Sequential([\n",
    "    tf.keras.layers.Flatten(input_shape = input_shape),\n",
    "    tf.keras.layers.Dense(128, activation='relu'),\n",
    "    tf.keras.layers.Dropout(0.2),\n",
    "    tf.keras.layers.Dense(10)\n",
    "])"
   ]
  },
  {
   "cell_type": "code",
   "execution_count": 36,
   "metadata": {},
   "outputs": [
    {
     "data": {
      "text/plain": [
       "array([[ -46.457817, -151.84863 ,  156.64471 ,  -56.361523,    7.431802,\n",
       "         -92.42943 ,   93.97866 ,   97.07191 ,  -32.252975,  -66.95527 ]],\n",
       "      dtype=float32)"
      ]
     },
     "execution_count": 36,
     "metadata": {},
     "output_type": "execute_result"
    }
   ],
   "source": [
    "# predictions\n",
    "predictions = model(X_train[:1]).numpy()\n",
    "predictions"
   ]
  },
  {
   "cell_type": "code",
   "execution_count": 37,
   "metadata": {},
   "outputs": [
    {
     "data": {
      "text/plain": [
       "array([[0.0000000e+00, 0.0000000e+00, 1.0000000e+00, 0.0000000e+00,\n",
       "        0.0000000e+00, 0.0000000e+00, 6.0880562e-28, 1.3423276e-26,\n",
       "        0.0000000e+00, 0.0000000e+00]], dtype=float32)"
      ]
     },
     "execution_count": 37,
     "metadata": {},
     "output_type": "execute_result"
    }
   ],
   "source": [
    "# this will convert these logits to probabilit for rach classes\n",
    "tf.nn.softmax(predictions).numpy()"
   ]
  },
  {
   "cell_type": "code",
   "execution_count": 38,
   "metadata": {},
   "outputs": [],
   "source": [
    "## loss fucntion: define a loss function for the training using\n",
    "loss_fn = tf.keras.losses.SparseCategoricalCrossentropy(from_logits=True)"
   ]
  },
  {
   "cell_type": "code",
   "execution_count": 39,
   "metadata": {},
   "outputs": [
    {
     "data": {
      "text/plain": [
       "np.float32(249.07414)"
      ]
     },
     "execution_count": 39,
     "metadata": {},
     "output_type": "execute_result"
    }
   ],
   "source": [
    "loss_fn(y_train[:1], predictions).numpy()"
   ]
  },
  {
   "cell_type": "code",
   "execution_count": 40,
   "metadata": {},
   "outputs": [],
   "source": [
    "## compile the model\n",
    "model.compile(optimizer='adam', loss = loss_fn, metrics=['accuracy'])"
   ]
  },
  {
   "cell_type": "code",
   "execution_count": 41,
   "metadata": {},
   "outputs": [
    {
     "name": "stdout",
     "output_type": "stream",
     "text": [
      "Epoch 1/10\n"
     ]
    },
    {
     "name": "stderr",
     "output_type": "stream",
     "text": [
      "2024-11-13 19:45:24.922433: W external/local_xla/xla/tsl/framework/cpu_allocator_impl.cc:83] Allocation of 47040000 exceeds 10% of free system memory.\n"
     ]
    },
    {
     "name": "stdout",
     "output_type": "stream",
     "text": [
      "\u001b[1m1875/1875\u001b[0m \u001b[32m━━━━━━━━━━━━━━━━━━━━\u001b[0m\u001b[37m\u001b[0m \u001b[1m4s\u001b[0m 1ms/step - accuracy: 0.7023 - loss: 8.7815\n",
      "Epoch 2/10\n",
      "\u001b[1m1875/1875\u001b[0m \u001b[32m━━━━━━━━━━━━━━━━━━━━\u001b[0m\u001b[37m\u001b[0m \u001b[1m5s\u001b[0m 1ms/step - accuracy: 0.8341 - loss: 0.6262\n",
      "Epoch 3/10\n",
      "\u001b[1m1875/1875\u001b[0m \u001b[32m━━━━━━━━━━━━━━━━━━━━\u001b[0m\u001b[37m\u001b[0m \u001b[1m5s\u001b[0m 1ms/step - accuracy: 0.8680 - loss: 0.4854\n",
      "Epoch 4/10\n",
      "\u001b[1m1875/1875\u001b[0m \u001b[32m━━━━━━━━━━━━━━━━━━━━\u001b[0m\u001b[37m\u001b[0m \u001b[1m5s\u001b[0m 1ms/step - accuracy: 0.8867 - loss: 0.4174\n",
      "Epoch 5/10\n",
      "\u001b[1m1875/1875\u001b[0m \u001b[32m━━━━━━━━━━━━━━━━━━━━\u001b[0m\u001b[37m\u001b[0m \u001b[1m5s\u001b[0m 1ms/step - accuracy: 0.8947 - loss: 0.3936\n",
      "Epoch 6/10\n",
      "\u001b[1m1875/1875\u001b[0m \u001b[32m━━━━━━━━━━━━━━━━━━━━\u001b[0m\u001b[37m\u001b[0m \u001b[1m3s\u001b[0m 1ms/step - accuracy: 0.9034 - loss: 0.3786\n",
      "Epoch 7/10\n",
      "\u001b[1m1875/1875\u001b[0m \u001b[32m━━━━━━━━━━━━━━━━━━━━\u001b[0m\u001b[37m\u001b[0m \u001b[1m3s\u001b[0m 1ms/step - accuracy: 0.9057 - loss: 0.3634\n",
      "Epoch 8/10\n",
      "\u001b[1m1875/1875\u001b[0m \u001b[32m━━━━━━━━━━━━━━━━━━━━\u001b[0m\u001b[37m\u001b[0m \u001b[1m3s\u001b[0m 2ms/step - accuracy: 0.9099 - loss: 0.3509\n",
      "Epoch 9/10\n",
      "\u001b[1m1875/1875\u001b[0m \u001b[32m━━━━━━━━━━━━━━━━━━━━\u001b[0m\u001b[37m\u001b[0m \u001b[1m5s\u001b[0m 1ms/step - accuracy: 0.9105 - loss: 0.3407\n",
      "Epoch 10/10\n",
      "\u001b[1m1875/1875\u001b[0m \u001b[32m━━━━━━━━━━━━━━━━━━━━\u001b[0m\u001b[37m\u001b[0m \u001b[1m5s\u001b[0m 2ms/step - accuracy: 0.9114 - loss: 0.3440\n"
     ]
    }
   ],
   "source": [
    "## fit the model for the training\n",
    "history = model.fit(X_train, y_train, epochs=10)"
   ]
  },
  {
   "cell_type": "code",
   "execution_count": 45,
   "metadata": {},
   "outputs": [
    {
     "name": "stdout",
     "output_type": "stream",
     "text": [
      "313/313 - 0s - 948us/step - accuracy: 0.9492 - loss: 0.2720\n",
      "loss is: 0.27195537090301514\n",
      "accuracy:  0.9491999745368958\n"
     ]
    }
   ],
   "source": [
    "## it will check the models performace\n",
    "loss, accuracy = model.evaluate(X_test, y_test, verbose=2)\n",
    "print(\"loss is:\", loss)\n",
    "print(\"accuracy: \", accuracy)"
   ]
  },
  {
   "cell_type": "code",
   "execution_count": 46,
   "metadata": {},
   "outputs": [],
   "source": [
    "probability_model = tf.keras.Sequential([\n",
    "    tf.keras.layers.Softmax()\n",
    "])"
   ]
  },
  {
   "cell_type": "code",
   "execution_count": 51,
   "metadata": {},
   "outputs": [
    {
     "data": {
      "text/plain": [
       "<tf.Tensor: shape=(5, 28, 28), dtype=float32, numpy=\n",
       "array([[[0.03571428, 0.03571428, 0.03571428, ..., 0.03571428,\n",
       "         0.03571428, 0.03571428],\n",
       "        [0.03571428, 0.03571428, 0.03571428, ..., 0.03571428,\n",
       "         0.03571428, 0.03571428],\n",
       "        [0.03571428, 0.03571428, 0.03571428, ..., 0.03571428,\n",
       "         0.03571428, 0.03571428],\n",
       "        ...,\n",
       "        [0.        , 0.        , 0.        , ..., 0.        ,\n",
       "         0.        , 0.        ],\n",
       "        [0.        , 0.        , 0.        , ..., 0.        ,\n",
       "         0.        , 0.        ],\n",
       "        [0.03571428, 0.03571428, 0.03571428, ..., 0.03571428,\n",
       "         0.03571428, 0.03571428]],\n",
       "\n",
       "       [[0.03571428, 0.03571428, 0.03571428, ..., 0.03571428,\n",
       "         0.03571428, 0.03571428],\n",
       "        [0.03571428, 0.03571428, 0.03571428, ..., 0.03571428,\n",
       "         0.03571428, 0.03571428],\n",
       "        [0.03571428, 0.03571428, 0.03571428, ..., 0.03571428,\n",
       "         0.03571428, 0.03571428],\n",
       "        ...,\n",
       "        [0.03571428, 0.03571428, 0.03571428, ..., 0.03571428,\n",
       "         0.03571428, 0.03571428],\n",
       "        [0.03571428, 0.03571428, 0.03571428, ..., 0.03571428,\n",
       "         0.03571428, 0.03571428],\n",
       "        [0.03571428, 0.03571428, 0.03571428, ..., 0.03571428,\n",
       "         0.03571428, 0.03571428]],\n",
       "\n",
       "       [[0.03571428, 0.03571428, 0.03571428, ..., 0.03571428,\n",
       "         0.03571428, 0.03571428],\n",
       "        [0.03571428, 0.03571428, 0.03571428, ..., 0.03571428,\n",
       "         0.03571428, 0.03571428],\n",
       "        [0.03571428, 0.03571428, 0.03571428, ..., 0.03571428,\n",
       "         0.03571428, 0.03571428],\n",
       "        ...,\n",
       "        [0.03571428, 0.03571428, 0.03571428, ..., 0.03571428,\n",
       "         0.03571428, 0.03571428],\n",
       "        [0.03571428, 0.03571428, 0.03571428, ..., 0.03571428,\n",
       "         0.03571428, 0.03571428],\n",
       "        [0.03571428, 0.03571428, 0.03571428, ..., 0.03571428,\n",
       "         0.03571428, 0.03571428]],\n",
       "\n",
       "       [[0.03571428, 0.03571428, 0.03571428, ..., 0.03571428,\n",
       "         0.03571428, 0.03571428],\n",
       "        [0.03571428, 0.03571428, 0.03571428, ..., 0.03571428,\n",
       "         0.03571428, 0.03571428],\n",
       "        [0.03571428, 0.03571428, 0.03571428, ..., 0.03571428,\n",
       "         0.03571428, 0.03571428],\n",
       "        ...,\n",
       "        [0.03571428, 0.03571428, 0.03571428, ..., 0.03571428,\n",
       "         0.03571428, 0.03571428],\n",
       "        [0.03571428, 0.03571428, 0.03571428, ..., 0.03571428,\n",
       "         0.03571428, 0.03571428],\n",
       "        [0.03571428, 0.03571428, 0.03571428, ..., 0.03571428,\n",
       "         0.03571428, 0.03571428]],\n",
       "\n",
       "       [[0.03571428, 0.03571428, 0.03571428, ..., 0.03571428,\n",
       "         0.03571428, 0.03571428],\n",
       "        [0.03571428, 0.03571428, 0.03571428, ..., 0.03571428,\n",
       "         0.03571428, 0.03571428],\n",
       "        [0.03571428, 0.03571428, 0.03571428, ..., 0.03571428,\n",
       "         0.03571428, 0.03571428],\n",
       "        ...,\n",
       "        [0.03571429, 0.03571429, 0.03571429, ..., 0.03571429,\n",
       "         0.03571429, 0.03571429],\n",
       "        [0.03571429, 0.03571429, 0.03571429, ..., 0.03571429,\n",
       "         0.03571429, 0.03571429],\n",
       "        [0.03571429, 0.03571429, 0.03571429, ..., 0.03571429,\n",
       "         0.03571429, 0.03571429]]], dtype=float32)>"
      ]
     },
     "execution_count": 51,
     "metadata": {},
     "output_type": "execute_result"
    }
   ],
   "source": [
    "probability_model(X_test[:5])"
   ]
  },
  {
   "cell_type": "code",
   "execution_count": null,
   "metadata": {},
   "outputs": [],
   "source": []
  },
  {
   "cell_type": "code",
   "execution_count": null,
   "metadata": {},
   "outputs": [],
   "source": []
  },
  {
   "cell_type": "code",
   "execution_count": null,
   "metadata": {},
   "outputs": [],
   "source": []
  },
  {
   "cell_type": "code",
   "execution_count": null,
   "metadata": {},
   "outputs": [],
   "source": []
  },
  {
   "cell_type": "code",
   "execution_count": null,
   "metadata": {},
   "outputs": [],
   "source": []
  },
  {
   "cell_type": "code",
   "execution_count": null,
   "metadata": {},
   "outputs": [],
   "source": []
  },
  {
   "cell_type": "code",
   "execution_count": null,
   "metadata": {},
   "outputs": [],
   "source": []
  },
  {
   "cell_type": "code",
   "execution_count": null,
   "metadata": {},
   "outputs": [],
   "source": []
  }
 ],
 "metadata": {
  "kernelspec": {
   "display_name": "Python 3",
   "language": "python",
   "name": "python3"
  },
  "language_info": {
   "codemirror_mode": {
    "name": "ipython",
    "version": 3
   },
   "file_extension": ".py",
   "mimetype": "text/x-python",
   "name": "python",
   "nbconvert_exporter": "python",
   "pygments_lexer": "ipython3",
   "version": "3.12.1"
  }
 },
 "nbformat": 4,
 "nbformat_minor": 2
}
